{
 "cells": [
  {
   "cell_type": "code",
   "execution_count": 1,
   "metadata": {},
   "outputs": [],
   "source": [
    "from app.config import get_settings\n",
    "import os\n",
    "\n",
    "settings = get_settings()"
   ]
  },
  {
   "cell_type": "code",
   "execution_count": 4,
   "metadata": {},
   "outputs": [
    {
     "name": "stdout",
     "output_type": "stream",
     "text": [
      "768\n"
     ]
    }
   ],
   "source": [
    "from app.knowledge.infra.repository.embeddings_repo import EmbeddingsRepository\n",
    "from app.knowledge.application.embeddings_service import EmbeddingsService\n",
    "from app.knowledge.infra.db_models.embeddings import Embeddings\n",
    "from app.knowledge.infra.db_models.weekly_report import WeeklyReport\n",
    "from app.utils.db_utils import row_to_dict\n",
    "from app.database import SessionLocal\n",
    "from google import genai\n",
    "from google.genai.types import EmbedContentConfig\n",
    "from app.utils.id_utils import generate_nanoid\n",
    "\n",
    "embeddings_repo = EmbeddingsRepository()\n",
    "embeddings_service = EmbeddingsService(embeddings_repo=embeddings_repo)\n",
    "\n",
    "with SessionLocal() as db:\n",
    "    rows = db.query(WeeklyReport).all()\n",
    "\n",
    "data = [row_to_dict(row) for row in rows]\n",
    "\n",
    "for row in data:\n",
    "    content = f\"<document>\\ntitle:{row[\"start_date\"]} ~ {row[\"end_date\"]} weekly report\\ncontent:{row['content']}\\n</document>\"\n",
    "    contents = [row[\"content\"]]\n",
    "\n",
    "    client = genai.Client(vertexai=True, project=settings.GOOGLE_CLOUD_PROJECT, location=settings.GOOGLE_CLOUD_LOCATION)\n",
    "    response = client.models.embed_content(\n",
    "        model=\"gemini-embedding-001\",\n",
    "        contents=contents,\n",
    "        config=EmbedContentConfig(\n",
    "            task_type=\"RETRIEVAL_DOCUMENT\",  # Optional\n",
    "        ),\n",
    "    )\n",
    "    embedding = response.embeddings[0].values\n",
    "    print(len(embedding))\n",
    "    break\n",
    "\n",
    "    # new_data = Embeddings(\n",
    "    #     id=generate_nanoid(),\n",
    "    #     date=row[\"end_date\"],\n",
    "    #     origin_id=row[\"id\"],\n",
    "    #     origin_type=\"weekly_report\",\n",
    "    #     content=row[\"content\"],\n",
    "    #     embedding=embedding\n",
    "    # )\n",
    "\n",
    "    # embeddings_service.create(new_data)"
   ]
  },
  {
   "cell_type": "code",
   "execution_count": null,
   "metadata": {},
   "outputs": [],
   "source": []
  }
 ],
 "metadata": {
  "kernelspec": {
   "display_name": "Python 3",
   "language": "python",
   "name": "python3"
  },
  "language_info": {
   "codemirror_mode": {
    "name": "ipython",
    "version": 3
   },
   "file_extension": ".py",
   "mimetype": "text/x-python",
   "name": "python",
   "nbconvert_exporter": "python",
   "pygments_lexer": "ipython3",
   "version": "3.12.11"
  }
 },
 "nbformat": 4,
 "nbformat_minor": 2
}
