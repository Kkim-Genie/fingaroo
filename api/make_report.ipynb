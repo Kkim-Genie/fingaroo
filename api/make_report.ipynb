{
 "cells": [
  {
   "cell_type": "code",
   "execution_count": 1,
   "metadata": {},
   "outputs": [],
   "source": [
    "from app.config import get_settings\n",
    "import os\n",
    "\n",
    "settings = get_settings()\n",
    "\n",
    "os.environ['GOOGLE_APPLICATION_CREDENTIALS'] = settings.GOOGLE_APPLICATION_CREDENTIALS"
   ]
  },
  {
   "cell_type": "code",
   "execution_count": 7,
   "metadata": {},
   "outputs": [],
   "source": [
    "from app.knowledge.application.daily_market_condition_service import DailyMarketConditionService\n",
    "from app.knowledge.infra.repository.news_repo import NewsRepository\n",
    "from app.knowledge.infra.repository.daily_market_condition_repo import DailyMarketConditionRepository\n",
    "from app.knowledge.application.embeddings_service import EmbeddingsService\n",
    "from app.knowledge.infra.repository.embeddings_repo import EmbeddingsRepository\n",
    "from app.config import get_settings\n",
    "from app.utils.knowledge_utils import make_weekly_report_prompt\n",
    "from datetime import datetime, timedelta\n",
    "from app.knowledge.application.weekly_report_service import WeeklyReportService\n",
    "from app.knowledge.infra.repository.weekly_report_repo import WeeklyReportRepository\n",
    "\n",
    "settings = get_settings()\n",
    "\n",
    "daily_market_condition_repo = DailyMarketConditionRepository()\n",
    "news_repo = NewsRepository()\n",
    "embeddings_repo = EmbeddingsRepository()\n",
    "weekly_report_repo = WeeklyReportRepository()\n",
    "embeddings_service = EmbeddingsService(embeddings_repo=embeddings_repo)\n",
    "daily_market_condition_service = DailyMarketConditionService(daily_market_condition_repo=daily_market_condition_repo, news_repo=news_repo, embeddings_service=embeddings_service)\n",
    "weekly_report_service = WeeklyReportService(weekly_report_repo=weekly_report_repo, daily_market_condition_repo=daily_market_condition_repo, news_repo=news_repo, embeddings_service=embeddings_service)\n",
    "\n",
    "end_date = \"2025-07-06\"\n",
    "weekly_report_service.create(end_date)\n",
    "\n",
    "# current = datetime.strptime(start_date, \"%Y-%m-%d\")\n",
    "# end = datetime.strptime(end_date, \"%Y-%m-%d\")\n",
    "\n",
    "# while current <= end:\n",
    "#     date_string = current.strftime(\"%Y-%m-%d\")\n",
    "#     daily_market_condition_service.create(date_string)\n",
    "#     print(date_string, \"complete\")\n",
    "#     current += timedelta(days=1)\n"
   ]
  },
  {
   "cell_type": "code",
   "execution_count": null,
   "metadata": {},
   "outputs": [],
   "source": []
  }
 ],
 "metadata": {
  "kernelspec": {
   "display_name": ".venv",
   "language": "python",
   "name": "python3"
  },
  "language_info": {
   "codemirror_mode": {
    "name": "ipython",
    "version": 3
   },
   "file_extension": ".py",
   "mimetype": "text/x-python",
   "name": "python",
   "nbconvert_exporter": "python",
   "pygments_lexer": "ipython3",
   "version": "3.12.11"
  }
 },
 "nbformat": 4,
 "nbformat_minor": 2
}
