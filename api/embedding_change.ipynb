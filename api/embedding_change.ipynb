{
 "cells": [
  {
   "cell_type": "code",
   "execution_count": 1,
   "metadata": {},
   "outputs": [],
   "source": [
    "from app.config import get_settings\n",
    "import os\n",
    "\n",
    "settings = get_settings()"
   ]
  },
  {
   "cell_type": "code",
   "execution_count": 6,
   "metadata": {},
   "outputs": [],
   "source": [
    "from app.knowledge.infra.repository.embeddings_repo import EmbeddingsRepository\n",
    "from app.knowledge.application.embeddings_service import EmbeddingsService\n",
    "from app.knowledge.infra.db_models.embeddings import Embeddings\n",
    "from app.knowledge.infra.db_models.weekly_report import WeeklyReport\n",
    "from app.utils.db_utils import row_to_dict\n",
    "from app.database import SessionLocal\n",
    "from google import genai\n",
    "from google.genai.types import EmbedContentConfig\n",
    "from app.utils.id_utils import generate_nanoid\n",
    "\n",
    "embeddings_repo = EmbeddingsRepository()\n",
    "embeddings_service = EmbeddingsService(embeddings_repo=embeddings_repo)\n",
    "\n",
    "with SessionLocal() as db:\n",
    "    rows = db.query(Embeddings).all()\n",
    "\n",
    "data = [row_to_dict(row) for row in rows]\n",
    "\n",
    "for row in data:\n",
    "    # content = f\"<document>\\ntitle:{row[\"start_date\"]} ~ {row[\"end_date\"]} weekly report\\ncontent:{row['content']}\\n</document>\"\n",
    "    contents = [row[\"content\"]]\n",
    "\n",
    "    client = genai.Client(vertexai=True, project=settings.GOOGLE_CLOUD_PROJECT, location=settings.GOOGLE_CLOUD_LOCATION)\n",
    "    response = client.models.embed_content(\n",
    "        model=\"gemini-embedding-001\",\n",
    "        contents=contents,\n",
    "        config=EmbedContentConfig(\n",
    "            task_type=\"RETRIEVAL_DOCUMENT\",  # Optional\n",
    "        ),\n",
    "    )\n",
    "    embedding = response.embeddings[0].values\n",
    "    embeddings_service.put_embedding_by_id(row[\"id\"], embedding)"
   ]
  },
  {
   "cell_type": "code",
   "execution_count": null,
   "metadata": {},
   "outputs": [],
   "source": []
  }
 ],
 "metadata": {
  "kernelspec": {
   "display_name": ".venv",
   "language": "python",
   "name": "python3"
  },
  "language_info": {
   "codemirror_mode": {
    "name": "ipython",
    "version": 3
   },
   "file_extension": ".py",
   "mimetype": "text/x-python",
   "name": "python",
   "nbconvert_exporter": "python",
   "pygments_lexer": "ipython3",
   "version": "3.12.11"
  }
 },
 "nbformat": 4,
 "nbformat_minor": 2
}
